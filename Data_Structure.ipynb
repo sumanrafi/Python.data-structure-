{
 "cells": [
  {
   "cell_type": "markdown",
   "metadata": {
    "id": "is6vhpNl9ceX"
   },
   "source": [
    "**Q.1 What are data structures, and why are they important.**\n",
    "\n",
    "Ans:\n",
    "\n",
    "Data structures are ways of organizing and storing data so it can be efficiently accessed and modified.\n",
    "\n",
    "They are essential because they enable faster data manipulation and optimize algorithms, improving the overall performance of applications"
   ]
  },
  {
   "cell_type": "markdown",
   "metadata": {
    "id": "mfY30YSZ9rfa"
   },
   "source": [
    "**Q.2 Explain the difference between mutable and immutable data types with examples**\n",
    "\n",
    "Ans:\n",
    "\n",
    "Differences Between Mutable and Immutable Data Types:\n",
    "\n",
    "**Mutable data types:**\n",
    "    \n",
    "  -   can be changed after creation &\n",
    "  \n",
    "  -   Objects can share the same memory reference if modified\n",
    "  \n",
    "  -   Modifying the object changes the original object\n",
    "        \n",
    "    -       Example: lists and dictionaries  while\n",
    "\n",
    "\n",
    "**Immutable data types:**\n",
    "    \n",
    "  -   Immutable data types cannot be modified\n",
    "\n",
    "  -    A new object is created in memory when modified\n",
    "       \n",
    "  -   Modifying the object creates a new object\n",
    "    \n",
    "    -       Example: strings and tuples\n",
    "    "
   ]
  },
  {
   "cell_type": "markdown",
   "metadata": {
    "id": "sHhH5Gfa968Q"
   },
   "source": [
    "**Q.3 What are the main differences between lists and tuples in Python**\n",
    "\n",
    "Ans:\n",
    "\n",
    "**List**:    \n",
    "  -   List are Mutable : Mutable, more flexible, and slower.\n",
    "  -   you can modify, add, or remove elements after the list is created\n",
    "  -   Syntax:\n",
    "            Lists are created using square brackets: []\n",
    "  -   Lists require more memory due to their ability to change.\n",
    "  -   Lists have many built-in methods for modifying the list\n",
    "    -       Example:  append(), remove(), extend(), pop()\n",
    "\n",
    "\n",
    "**Tuples** :\n",
    "  -   Immutable, faster, and more memory efficient.\n",
    "  -   Tuples are immutable\n",
    "  -   once a tuple is created, you cannot modify, add, or remove elements.\n",
    "  -   Syntax:\n",
    "            Tuples are created using parentheses: ()\n",
    "  -   Tuples are generally faster than lists for iteration and accessing element, because of their immutability.\n",
    "  -   Tuples have fewer methods since they are immutable\n",
    "    -       Example: count(), index()\n",
    "            "
   ]
  },
  {
   "cell_type": "markdown",
   "metadata": {
    "id": "eHIZfjvn97DT"
   },
   "source": [
    "**Q.4 Describe how dictionaries store data**\n",
    "\n",
    "Ans:\n",
    "\n",
    " Dictionaries in Python store data in key-value pairs using a hash-based structure. Each key is unique and is mapped to a specific value. The dictionary uses a hash function to compute a hash value for each key, determining where the key-value pair is stored in memory. This allows for fast lookups, insertions, and deletion"
   ]
  },
  {
   "cell_type": "markdown",
   "metadata": {
    "id": "sSW0iATR97Fm"
   },
   "source": [
    "**Q.5 Why might you use a set instead of a list in Python**\n",
    "\n",
    "Ans:\n",
    "\n",
    "Sets are useful when you need to store unique elements and perform fast membership checks. Unlike lists, sets automatically eliminate duplicates, ensuring that only one instance of each element is stored. This makes sets ideal for operations that involve finding unique items or performing mathematical set operations like union, intersection, and difference."
   ]
  },
  {
   "cell_type": "markdown",
   "metadata": {
    "id": "pereKyX897Ho"
   },
   "source": [
    "**Q.6 What is a string in Python, and how is it different from a list**\n",
    "\n",
    "Ans:\n",
    "\n",
    " A string is an immutable sequence of characters, whereas a list is a mutable sequence of any data type.\n",
    " While both support indexing and slicing, strings cannot be changed after creation, but lists can be modified."
   ]
  },
  {
   "cell_type": "markdown",
   "metadata": {
    "id": "IpdXf6W897Md"
   },
   "source": [
    "**Q.7 How do tuples ensure data integrity in Python**\n",
    "\n",
    "Ans:\n",
    "\n",
    "\n",
    " Tuples ensure data integrity because they are immutable. Once a tuple is created, its elements cannot be modified, which helps preserve the data without accidental changes."
   ]
  },
  {
   "cell_type": "markdown",
   "metadata": {
    "id": "E1ttdfi797PV"
   },
   "source": [
    "**Q.8 What is a hash table, and how does it relate to dictionaries in Python**\n",
    "\n",
    "Ans:\n",
    "\n",
    " A hash table is a data structure that stores data in an array format, using a hash function to compute an index where the data is stored. In Python, dictionaries use a hash table internally to map keys to values, allowing for fast data retrieval."
   ]
  },
  {
   "cell_type": "markdown",
   "metadata": {
    "id": "UYO1aJZmB8T2"
   },
   "source": [
    "**Q.9 Can lists contain different data types in Python**\n",
    "\n",
    "Ans:\n",
    "\n",
    "Yes, lists in Python can contain elements of different data types. For example, a list can store integers, strings, floats, or even other lists."
   ]
  },
  {
   "cell_type": "code",
   "execution_count": null,
   "metadata": {
    "id": "6Oa1dQxTCDLh"
   },
   "outputs": [],
   "source": [
    "#Example\n",
    "grocery_list = [\"Milk\", \"cherry\", 1, 2.2, True, (3+5j)]"
   ]
  },
  {
   "cell_type": "markdown",
   "metadata": {
    "id": "x4miQAwQB8cK"
   },
   "source": [
    "**Q.10 Explain why strings are immutable in Python**\n",
    "\n",
    "Ans:\n",
    "\n",
    "Strings are immutable in Python because they are designed to be memory efficient and safe from accidental changes. By making strings immutable, Python ensures that any string value cannot be altered, which avoids unexpected behavior when multiple references point to the same string object."
   ]
  },
  {
   "cell_type": "markdown",
   "metadata": {
    "id": "u-AnbBlSB8nH"
   },
   "source": [
    "**11. What advantages do dictionaries offer over lists for certain tasks?**\n",
    "\n",
    "*Answer:*\n",
    "\n",
    "Dictionaries allow fast key-based access and better organization for large datasets compared to index-based lists."
   ]
  },
  {
   "cell_type": "markdown",
   "metadata": {
    "id": "Lihois4WB8wY"
   },
   "source": [
    "**Q.12 Describe a scenario where using a tuple would be preferable over a list**\n",
    "\n",
    "Ans:\n",
    "\n",
    "Tuples are preferable when you need an immutable collection of elements, like storing coordinates (x, y) or when the data should remain constant throughout the program. Since tuples are faster and more memory-efficient than lists, they are a better choice for fixed collections."
   ]
  },
  {
   "cell_type": "markdown",
   "metadata": {
    "id": "_tPfsTrOB851"
   },
   "source": [
    "**Q.13 How do sets handle duplicate values in Python**\n",
    "\n",
    "Ans:\n",
    "\n",
    "Sets automatically eliminate duplicate values. If you try to add a duplicate element, it will simply be ignored, ensuring that only unique elements are stored in a set.\n"
   ]
  },
  {
   "cell_type": "code",
   "execution_count": null,
   "metadata": {
    "id": "PeXCP7WsEDv7"
   },
   "outputs": [],
   "source": [
    "my_set = {1, 2, 2, 3}\n",
    "print(my_set)  # Output: {1, 2, 3}"
   ]
  },
  {
   "cell_type": "markdown",
   "metadata": {
    "id": "5NbsC19qB9BH"
   },
   "source": [
    "**Q.14 How does the “in” keyword work differently for lists and dictionaries**\n",
    "\n",
    "Ans:\n",
    "\n",
    "For lists, the in keyword checks if an element exists in the list by iterating through the list. It checks for membership one by one.\n",
    "For dictionaries, the in keyword checks if a key exists in the dictionary, which is much faster due to the hash table structure."
   ]
  },
  {
   "cell_type": "markdown",
   "metadata": {
    "id": "_qYAC9pBB9JD"
   },
   "source": [
    "**Q.15 Can you modify the elements of a tuple? Explain why or why not**\n",
    "\n",
    "Ans:\n",
    "\n",
    "No, you cannot modify the elements of a tuple because tuples are immutable. Once a tuple is created, its data cannot be changed, which ensures data integrity."
   ]
  },
  {
   "cell_type": "markdown",
   "metadata": {
    "id": "qU9QmYM_B9Qh"
   },
   "source": [
    "**Q.16 What is a nested dictionary, and give an example of its use case**\n",
    "\n",
    "Ans:\n",
    "\n",
    "A nested dictionary is a dictionary that contains other dictionaries as values. This is useful when you need to represent complex hierarchical data, like storing information about multiple employees in a company.\n"
   ]
  },
  {
   "cell_type": "code",
   "execution_count": null,
   "metadata": {
    "colab": {
     "base_uri": "https://localhost:8080/"
    },
    "id": "cijsVZFpE5gr",
    "outputId": "cf590bac-5710-4d19-ea90-b3d19b8d27d5"
   },
   "outputs": [
    {
     "data": {
      "text/plain": [
       "{'Dish1': {'name': 'Pasta Carbonara', 'price': 160.99},\n",
       " 'Dish2': {'name': 'Chicken Caesar Salad', 'price': 144.5},\n",
       " 'Dish3': {'name': 'Margherita Pizza', 'price': 156.0}}"
      ]
     },
     "execution_count": 3,
     "metadata": {},
     "output_type": "execute_result"
    }
   ],
   "source": [
    "restaurant_menu = {\n",
    "    'Dish1': {'name': 'Pasta masala', 'price': 160.99},\n",
    "    'Dish2': {'name': 'Chicken 65', 'price': 144.50},\n",
    "    'Dish3': {'name': 'Margherita Pizza', 'price': 156.00}\n",
    "}"
   ]
  },
  {
   "cell_type": "markdown",
   "metadata": {
    "id": "-sQZPADAB9Ye"
   },
   "source": [
    "**Q.17 Describe the time complexity of accessing elements in a dictionary**\n",
    "\n",
    "Ans:\n",
    "\n",
    " The time complexity of accessing elements in a dictionary is O(1) on average. This is because dictionaries use a hash table, which allows for fast lookups based on the key."
   ]
  },
  {
   "cell_type": "markdown",
   "metadata": {
    "id": "oEs_sFhOB9hA"
   },
   "source": [
    "**Q.18 In what situations are lists preferred over dictionaries**\n",
    "\n",
    "Ans:\n",
    "\n",
    "Lists are preferred over dictionaries when:\n",
    "\n",
    "  You need to maintain the order of elements.\n",
    "\n",
    "  You need to store a sequence of elements without associating them with unique keys.\n",
    "\n",
    "  When you don’t need fast lookups and are dealing with a small collection of data."
   ]
  },
  {
   "cell_type": "markdown",
   "metadata": {
    "id": "NvfNswUFB9qm"
   },
   "source": [
    "**Q.19 Why are dictionaries considered unordered, and how does that affect data retrieval.**\n",
    "\n",
    "Ans:\n",
    "\n",
    " Dictionaries in Python are considered unordered because they do not maintain a specific sequence for their keys and values. However, this does not affect data retrieval as long as retrieval is done by key, as dictionaries provide direct access to values through hashing"
   ]
  },
  {
   "cell_type": "markdown",
   "metadata": {
    "id": "Qo1y02CgB91U"
   },
   "source": [
    "**Q.20 Explain the difference between a list and a dictionary in terms of data retrieval.**\n",
    "\n",
    "Ans:\n",
    "\n",
    "In a list, data is retrieved by index (position in the list).\n",
    "\n",
    "In a dictionary, data is retrieved by key (unique identifier), making\n",
    "it faster for lookups as keys are hashed."
   ]
  },
  {
   "cell_type": "markdown",
   "metadata": {
    "id": "nDHVY51h7_G8"
   },
   "source": [
    "#Practical Questions\n"
   ]
  },
  {
   "cell_type": "markdown",
   "metadata": {
    "id": "aoljHb2Y8aO5"
   },
   "source": [
    "**Q.1 Write a code to create a string with your name and print it**\n"
   ]
  },
  {
   "cell_type": "code",
   "execution_count": 1,
   "metadata": {
    "colab": {
     "base_uri": "https://localhost:8080/"
    },
    "id": "Zke8GOMR8ssA",
    "outputId": "eb1b9fdc-7dc2-4a1b-9850-3d1cfc7b72db"
   },
   "outputs": [
    {
     "name": "stdout",
     "output_type": "stream",
     "text": [
      "Maheshwari Shinde\n"
     ]
    }
   ],
   "source": [
    "#Q1. Write a code to create a string with your name and print it.\n",
    "name = \"Maheshwari Shinde\"\n",
    "print(name)\n"
   ]
  },
  {
   "cell_type": "markdown",
   "metadata": {
    "id": "x2DlBmG6-IwJ"
   },
   "source": [
    "**Q.2 Write a code to find the length of the string \"Hello World\"**\n",
    "\n"
   ]
  },
  {
   "cell_type": "code",
   "execution_count": 4,
   "metadata": {
    "colab": {
     "base_uri": "https://localhost:8080/"
    },
    "id": "hwWUJRjf8xgZ",
    "outputId": "d97562ec-33b2-4368-c904-ccc2b98577a3"
   },
   "outputs": [
    {
     "name": "stdout",
     "output_type": "stream",
     "text": [
      "11\n"
     ]
    }
   ],
   "source": [
    "#Q.2 Write a code to find the length of the string \"Hello World\"\n",
    "string = \"Hello World\"\n",
    "length = len(string)\n",
    "print(length)"
   ]
  },
  {
   "cell_type": "markdown",
   "metadata": {
    "id": "E4OQZSo5-Ltu"
   },
   "source": [
    "**Q.3 Write a code to slice the first 3 characters from the string \"Python Programming\"**\n",
    "\n"
   ]
  },
  {
   "cell_type": "code",
   "execution_count": 5,
   "metadata": {
    "colab": {
     "base_uri": "https://localhost:8080/"
    },
    "id": "DlSBm-5x8xpX",
    "outputId": "09e3263e-2ee5-4edc-a6e7-5548f1200925"
   },
   "outputs": [
    {
     "name": "stdout",
     "output_type": "stream",
     "text": [
      "Pyt\n"
     ]
    }
   ],
   "source": [
    "#Q.3 Write a code to slice the first 3 characters from the string \"Python Programming\"\n",
    "string = \"Python Programming\"\n",
    "sliced_string = string[:3]\n",
    "print(sliced_string)\n"
   ]
  },
  {
   "cell_type": "markdown",
   "metadata": {
    "id": "sfL56tVs-Np9"
   },
   "source": [
    "**Q.4 Write a code to convert the string \"hello\" to uppercase**\n"
   ]
  },
  {
   "cell_type": "code",
   "execution_count": 6,
   "metadata": {
    "colab": {
     "base_uri": "https://localhost:8080/"
    },
    "id": "8L1eQumG8xyo",
    "outputId": "f75b21d7-66d1-43dd-e672-39bae23ecd96"
   },
   "outputs": [
    {
     "name": "stdout",
     "output_type": "stream",
     "text": [
      "HELLO\n"
     ]
    }
   ],
   "source": [
    "#Q.4 Write a code to convert the string \"hello\" to uppercase\n",
    "string = \"hello\"\n",
    "uppercase_string = string.upper()\n",
    "print(uppercase_string)\n"
   ]
  },
  {
   "cell_type": "markdown",
   "metadata": {
    "id": "zXlvE2Z6-QKL"
   },
   "source": [
    "**Q.5 Write a code to replace the word \"apple\" with \"orange\" in the string \"I like apple\"**\n",
    "\n"
   ]
  },
  {
   "cell_type": "code",
   "execution_count": 7,
   "metadata": {
    "colab": {
     "base_uri": "https://localhost:8080/"
    },
    "id": "m6OcyC-q8x72",
    "outputId": "3e22a8fe-ba65-4537-a82b-280e15c1e0d6"
   },
   "outputs": [
    {
     "name": "stdout",
     "output_type": "stream",
     "text": [
      "I like orange\n"
     ]
    }
   ],
   "source": [
    "#Q.5 Write a code to replace the word \"apple\" with \"orange\" in the string \"I like apple\"\n",
    "string = \"I like apple\"\n",
    "new_string = string.replace(\"apple\", \"orange\")\n",
    "print(new_string)\n"
   ]
  },
  {
   "cell_type": "markdown",
   "metadata": {
    "id": "Ar1wQpO7-S7e"
   },
   "source": [
    "**Q.6 Write a code to create a list with numbers 1 to 5 and print it**"
   ]
  },
  {
   "cell_type": "code",
   "execution_count": 8,
   "metadata": {
    "colab": {
     "base_uri": "https://localhost:8080/"
    },
    "id": "_0vHklzk8yza",
    "outputId": "b1284c11-4a6e-4e4e-ef80-1d2b15b2b521"
   },
   "outputs": [
    {
     "name": "stdout",
     "output_type": "stream",
     "text": [
      "[1, 2, 3, 4, 5]\n"
     ]
    }
   ],
   "source": [
    "#Q.6 Write a code to create a list with numbers 1 to 5 and print it\n",
    "numbers = [1, 2, 3, 4, 5]\n",
    "print(numbers)\n",
    "\n",
    "\n"
   ]
  },
  {
   "cell_type": "markdown",
   "metadata": {
    "id": "Mnfdm9CY-Uej"
   },
   "source": [
    "**Q.7 Write a code to append the number 10 to the list [1, 2, 3, 4]**"
   ]
  },
  {
   "cell_type": "code",
   "execution_count": 9,
   "metadata": {
    "colab": {
     "base_uri": "https://localhost:8080/"
    },
    "id": "itHD5mpv_pHa",
    "outputId": "7cc01794-91d6-40ab-cb52-9701cee393c3"
   },
   "outputs": [
    {
     "name": "stdout",
     "output_type": "stream",
     "text": [
      "[1, 2, 3, 4, 10]\n"
     ]
    }
   ],
   "source": [
    "#Q.7 Write a code to append the number 10 to the list [1, 2, 3, 4]\n",
    "numbers = [1, 2, 3, 4]\n",
    "numbers.append(10)\n",
    "print(numbers)"
   ]
  },
  {
   "cell_type": "markdown",
   "metadata": {
    "id": "hfxt-tH_-WTb"
   },
   "source": [
    "**Q.8 Write a code to remove the number 3 from the list [1, 2, 3, 4, 5]**"
   ]
  },
  {
   "cell_type": "code",
   "execution_count": 10,
   "metadata": {
    "colab": {
     "base_uri": "https://localhost:8080/"
    },
    "id": "7QsNG24a_sCH",
    "outputId": "3a8a7a3f-187e-4875-bd82-ee36f19155b6"
   },
   "outputs": [
    {
     "name": "stdout",
     "output_type": "stream",
     "text": [
      "[1, 2, 4, 5]\n"
     ]
    }
   ],
   "source": [
    "#Q.8 Write a code to remove the number 3 from the list [1, 2, 3, 4, 5]\n",
    "numbers = [1, 2, 3, 4, 5]\n",
    "numbers.remove(3)\n",
    "print(numbers)"
   ]
  },
  {
   "cell_type": "markdown",
   "metadata": {
    "id": "EImtMw82-XzQ"
   },
   "source": [
    "**Q.9 Write a code to access the second element in the list ['a', 'b', 'c', 'd']**\n",
    "\n"
   ]
  },
  {
   "cell_type": "code",
   "execution_count": 11,
   "metadata": {
    "colab": {
     "base_uri": "https://localhost:8080/"
    },
    "id": "tAxsJLW6_uzp",
    "outputId": "7d4e2907-1437-4e0b-d6b8-03050f5dbce8"
   },
   "outputs": [
    {
     "name": "stdout",
     "output_type": "stream",
     "text": [
      "b\n"
     ]
    }
   ],
   "source": [
    "#Q.9 Write a code to access the second element in the list ['a', 'b', 'c', 'd']\n",
    "letters = ['a', 'b', 'c', 'd']\n",
    "second_element = letters[1]\n",
    "print(second_element)"
   ]
  },
  {
   "cell_type": "markdown",
   "metadata": {
    "id": "25cDSZ0j-Zqa"
   },
   "source": [
    "**Q.10 Write a code to reverse the list [10, 20, 30, 40, 50].**\n",
    "\n"
   ]
  },
  {
   "cell_type": "code",
   "execution_count": 12,
   "metadata": {
    "colab": {
     "base_uri": "https://localhost:8080/"
    },
    "id": "RGhJMJJ0_xLr",
    "outputId": "2b494570-75d4-4db5-9ddf-1b41b17f6d43"
   },
   "outputs": [
    {
     "name": "stdout",
     "output_type": "stream",
     "text": [
      "[50, 40, 30, 20, 10]\n"
     ]
    }
   ],
   "source": [
    "#Q.10 Write a code to reverse the list [10, 20, 30, 40, 50].\n",
    "numbers = [10, 20, 30, 40, 50]\n",
    "numbers.reverse()\n",
    "print(numbers)\n"
   ]
  },
  {
   "cell_type": "markdown",
   "metadata": {
    "id": "ipPbVUBh-cWW"
   },
   "source": [
    "**Q.11 Write a code to create a tuple with the elements 100, 200, 300 and print it.**\n",
    "\n"
   ]
  },
  {
   "cell_type": "code",
   "execution_count": 13,
   "metadata": {
    "colab": {
     "base_uri": "https://localhost:8080/"
    },
    "id": "2Z0q9vES8zXp",
    "outputId": "4debdf00-6bfe-49f0-d6a5-69f19f3cdf8e"
   },
   "outputs": [
    {
     "name": "stdout",
     "output_type": "stream",
     "text": [
      "(100, 200, 300)\n"
     ]
    }
   ],
   "source": [
    "#Q.11 Write a code to create a tuple with the elements 100, 200, 300 and print it.\n",
    "\n",
    "my_tuple = (100, 200, 300)\n",
    "print(my_tuple)"
   ]
  },
  {
   "cell_type": "markdown",
   "metadata": {
    "id": "-7EMoTbE-euW"
   },
   "source": [
    "**Q.12 Write a code to access the second-to-last element of the tuple ('red', 'green', 'blue', 'yellow').**\n",
    "\n"
   ]
  },
  {
   "cell_type": "code",
   "execution_count": 14,
   "metadata": {
    "colab": {
     "base_uri": "https://localhost:8080/"
    },
    "id": "F5PjaO-s8zfA",
    "outputId": "02ca5958-64ea-4386-f10c-f75dce6b9093"
   },
   "outputs": [
    {
     "name": "stdout",
     "output_type": "stream",
     "text": [
      "blue\n"
     ]
    }
   ],
   "source": [
    "#Q.12 Write a code to access the second-to-last element of the tuple ('red', 'green', 'blue', 'yellow').\n",
    "\n",
    "my_tuple = ('red', 'green', 'blue', 'yellow')\n",
    "print(my_tuple[-2])  # Output: 'blue'"
   ]
  },
  {
   "cell_type": "markdown",
   "metadata": {
    "id": "5bUXD7mx-gb8"
   },
   "source": [
    "**Q.13 Write a code to find the minimum number in the tuple (10, 20, 5, 15).**\n",
    "\n"
   ]
  },
  {
   "cell_type": "code",
   "execution_count": 15,
   "metadata": {
    "colab": {
     "base_uri": "https://localhost:8080/"
    },
    "id": "wZ-x-Rxr_1ER",
    "outputId": "940be206-baeb-4df9-bda7-027a5d261b75"
   },
   "outputs": [
    {
     "name": "stdout",
     "output_type": "stream",
     "text": [
      "5\n"
     ]
    }
   ],
   "source": [
    "#Q.13 Write a code to find the minimum number in the tuple (10, 20, 5, 15).\n",
    "my_tuple = (10, 20, 5, 15)\n",
    "print(min(my_tuple))  # Output: 5\n"
   ]
  },
  {
   "cell_type": "markdown",
   "metadata": {
    "id": "4ioPSCYl-ih7"
   },
   "source": [
    "**Q.14 Write a code to find the index of the element \"cat\" in the tuple ('dog', 'cat', 'rabbit').**"
   ]
  },
  {
   "cell_type": "code",
   "execution_count": 16,
   "metadata": {
    "colab": {
     "base_uri": "https://localhost:8080/"
    },
    "id": "vbTwncQf_3rs",
    "outputId": "67ccb98f-c8f1-4cb3-f9bd-9852ff947c89"
   },
   "outputs": [
    {
     "name": "stdout",
     "output_type": "stream",
     "text": [
      "1\n"
     ]
    }
   ],
   "source": [
    "#Q.14 Write a code to find the index of the element \"cat\" in the tuple ('dog', 'cat', 'rabbit')\n",
    "my_tuple = ('dog', 'cat', 'rabbit')\n",
    "print(my_tuple.index('cat'))  # Output: 1"
   ]
  },
  {
   "cell_type": "markdown",
   "metadata": {
    "id": "Jf-2d0-o-kfL"
   },
   "source": [
    "**Q.15 Write a code to create a tuple containing three different fruits and check if \"kiwi\" is in it.**"
   ]
  },
  {
   "cell_type": "code",
   "execution_count": 17,
   "metadata": {
    "colab": {
     "base_uri": "https://localhost:8080/"
    },
    "id": "R3bHhuoF8z31",
    "outputId": "02056f7e-7b34-4400-f265-26410d5ffb03"
   },
   "outputs": [
    {
     "name": "stdout",
     "output_type": "stream",
     "text": [
      "False\n"
     ]
    }
   ],
   "source": [
    "#Q.15 Write a code to create a tuple containing three different fruits and check if \"kiwi\" is in it.\n",
    "\n",
    "my_tuple = ('apple', 'banana', 'cherry')\n",
    "print('kiwi' in my_tuple)  # Output: False"
   ]
  },
  {
   "cell_type": "markdown",
   "metadata": {
    "id": "tKfD_yQr-mOg"
   },
   "source": [
    "**Q.16 Write a code to create a set with the elements 'a', 'b', 'c' and print it.**\n",
    "\n"
   ]
  },
  {
   "cell_type": "code",
   "execution_count": 18,
   "metadata": {
    "colab": {
     "base_uri": "https://localhost:8080/"
    },
    "id": "GyrYTXDG80AD",
    "outputId": "9bc599a2-de7d-4301-dc65-9bfe73fe6825"
   },
   "outputs": [
    {
     "name": "stdout",
     "output_type": "stream",
     "text": [
      "{'a', 'b', 'c'}\n"
     ]
    }
   ],
   "source": [
    "#Q.16 Write a code to create a set with the elements 'a', 'b', 'c' and print it.\n",
    "my_set = {'a', 'b', 'c'}\n",
    "print(my_set)\n"
   ]
  },
  {
   "cell_type": "markdown",
   "metadata": {
    "id": "Q805s3vZ-n0A"
   },
   "source": [
    "**Q.17 Write a code to clear all elements from the set {1, 2, 3, 4, 5}.**\n"
   ]
  },
  {
   "cell_type": "code",
   "execution_count": null,
   "metadata": {
    "id": "_-D6E3E980G-"
   },
   "outputs": [],
   "source": [
    "#Q.17 Write a code to clear all elements from the set {1, 2, 3, 4, 5}.\n",
    "\n",
    "my_set = {1, 2, 3, 4, 5}\n",
    "my_set.clear()\n",
    "print(my_set)  # Output: set()"
   ]
  },
  {
   "cell_type": "markdown",
   "metadata": {
    "id": "07Onwnz_-pbT"
   },
   "source": [
    "**Q.18 Write a code to remove the element 4 from the set {1, 2, 3, 4}.**\n",
    "\n"
   ]
  },
  {
   "cell_type": "code",
   "execution_count": 19,
   "metadata": {
    "colab": {
     "base_uri": "https://localhost:8080/"
    },
    "id": "lr6ftGbf80Pg",
    "outputId": "a7a413b0-efcc-4d59-dfe5-a375bf7096d6"
   },
   "outputs": [
    {
     "name": "stdout",
     "output_type": "stream",
     "text": [
      "{1, 2, 3}\n"
     ]
    }
   ],
   "source": [
    "#Q.18 Write a code to remove the element 4 from the set {1, 2, 3, 4}.\n",
    "\n",
    "my_set = {1, 2, 3, 4}\n",
    "my_set.remove(4)\n",
    "print(my_set)  # Output: {1, 2, 3}"
   ]
  },
  {
   "cell_type": "markdown",
   "metadata": {
    "id": "zAQ4OFVH-rSi"
   },
   "source": [
    "**Q.19 Write a code to find the union of two sets {1, 2, 3} and {3, 4, 5}.**\n",
    "\n"
   ]
  },
  {
   "cell_type": "code",
   "execution_count": 20,
   "metadata": {
    "colab": {
     "base_uri": "https://localhost:8080/"
    },
    "id": "uTvmTL7a80Yd",
    "outputId": "4eed7f18-01ef-4e19-9ed5-1ddb2f52e6d7"
   },
   "outputs": [
    {
     "name": "stdout",
     "output_type": "stream",
     "text": [
      "{1, 2, 3, 4, 5}\n"
     ]
    }
   ],
   "source": [
    "#Q.19 Write a code to find the union of two sets {1, 2, 3} and {3, 4, 5}.\n",
    "\n",
    "set1 = {1, 2, 3}\n",
    "set2 = {3, 4, 5}\n",
    "union_set = set1 | set2\n",
    "print(union_set)  # Output: {1, 2, 3, 4, 5}"
   ]
  },
  {
   "cell_type": "markdown",
   "metadata": {
    "id": "PjrmDQgN-seA"
   },
   "source": [
    "**Q.20 Write a code to find the intersection of two sets {1, 2, 3} and {2, 3, 4}.**\n",
    "\n"
   ]
  },
  {
   "cell_type": "code",
   "execution_count": 21,
   "metadata": {
    "colab": {
     "base_uri": "https://localhost:8080/"
    },
    "id": "3MtkxdEq81Mk",
    "outputId": "c4b0a2de-0669-4455-91e2-37a74cf24e10"
   },
   "outputs": [
    {
     "name": "stdout",
     "output_type": "stream",
     "text": [
      "{2, 3}\n"
     ]
    }
   ],
   "source": [
    "#Q.20 Write a code to find the intersection of two sets {1, 2, 3} and {2, 3, 4}.\n",
    "\n",
    "set1 = {1, 2, 3}\n",
    "set2 = {2, 3, 4}\n",
    "intersection_set = set1 & set2\n",
    "print(intersection_set)  # Output: {2, 3}"
   ]
  },
  {
   "cell_type": "markdown",
   "metadata": {
    "id": "zOp6VLTg-ttM"
   },
   "source": [
    "**Q.21 Write a code to create a dictionary with the keys \"name\", \"age\", and \"city\", and print it.**\n",
    "\n"
   ]
  },
  {
   "cell_type": "code",
   "execution_count": 34,
   "metadata": {
    "colab": {
     "base_uri": "https://localhost:8080/"
    },
    "id": "pUjOjAmx81Tj",
    "outputId": "dc8ea70b-8ed5-4d54-ef1a-983b20c258b0"
   },
   "outputs": [
    {
     "name": "stdout",
     "output_type": "stream",
     "text": [
      "{'name': 'John', 'age': 30, 'city': 'London'}\n"
     ]
    }
   ],
   "source": [
    "#Q.21 Write a code to create a dictionary with the keys \"name\", \"age\", and \"city\", and print it.\n",
    "\n",
    "my_dict = {\"name\": \"John\", \"age\": 30, \"city\": \"London\"}\n",
    "print(my_dict)"
   ]
  },
  {
   "cell_type": "markdown",
   "metadata": {
    "id": "aBPB-BpS-u-H"
   },
   "source": [
    "**Q.22 Write a code to add a new key-value pair \"country\": \"USA\" to the dictionary {'name': 'John', 'age': 25}.**\n",
    "\n"
   ]
  },
  {
   "cell_type": "code",
   "execution_count": 23,
   "metadata": {
    "colab": {
     "base_uri": "https://localhost:8080/"
    },
    "id": "hqvCmejb81bn",
    "outputId": "b00a87ac-3b7f-4af1-e50f-2c67361ea3f2"
   },
   "outputs": [
    {
     "name": "stdout",
     "output_type": "stream",
     "text": [
      "{'name': 'John', 'age': 25, 'country': 'USA'}\n"
     ]
    }
   ],
   "source": [
    "#Q.22 Write a code to add a new key-value pair \"country\": \"USA\" to the dictionary {'name': 'John', 'age': 25}.\n",
    "\n",
    "my_dict = {'name': 'John', 'age': 25}\n",
    "my_dict[\"country\"] = \"USA\"\n",
    "print(my_dict)"
   ]
  },
  {
   "cell_type": "markdown",
   "metadata": {
    "id": "i33I_ZIy-woE"
   },
   "source": [
    "**Q.23 Write a code to access the value associated with the key \"name\" in the dictionary {'name': 'Alice', 'age': 30}.**\n",
    "\n"
   ]
  },
  {
   "cell_type": "code",
   "execution_count": 32,
   "metadata": {
    "colab": {
     "base_uri": "https://localhost:8080/"
    },
    "id": "09kB-Xnt81kR",
    "outputId": "ddf547d6-2554-4338-b202-9f7526d94426"
   },
   "outputs": [
    {
     "name": "stdout",
     "output_type": "stream",
     "text": [
      "Mahi\n"
     ]
    }
   ],
   "source": [
    "#Q.23 Write a code to access the value associated with the key \"name\" in the dictionary {'name': 'Alice', 'age': 30}.\n",
    "\n",
    "my_dict = {'name': 'Mahi', 'age': 30}\n",
    "print(my_dict[\"name\"])  # Output: 'Alice'"
   ]
  },
  {
   "cell_type": "markdown",
   "metadata": {
    "id": "7Jma3X4v-yqw"
   },
   "source": [
    "**Q.24 Write a code to remove the key \"age\" from the dictionary {'name': 'Bob', 'age': 22, 'city': 'New York'}.**"
   ]
  },
  {
   "cell_type": "code",
   "execution_count": 25,
   "metadata": {
    "colab": {
     "base_uri": "https://localhost:8080/"
    },
    "id": "XnjGF0IS9_hs",
    "outputId": "d367b1ab-959f-4e1b-f015-4f8393d02638"
   },
   "outputs": [
    {
     "name": "stdout",
     "output_type": "stream",
     "text": [
      "{'name': 'Bob', 'city': 'New York'}\n"
     ]
    }
   ],
   "source": [
    "#Q.24 Write a code to remove the key \"age\" from the dictionary {'name': 'Bob', 'age': 22, 'city': 'New York'}.\n",
    "my_dict = {'name': 'Bob', 'age': 22, 'city': 'New York'}\n",
    "del my_dict[\"age\"]\n",
    "print(my_dict)  # Output: {'name': 'Bob', 'city': 'New York'}"
   ]
  },
  {
   "cell_type": "markdown",
   "metadata": {
    "id": "65OMiKU1--SS"
   },
   "source": [
    "**Q.25 Write a code to check if the key \"city\" exists in the dictionary {'name': 'Alice', 'city': 'Paris'}.**\n",
    "\n"
   ]
  },
  {
   "cell_type": "code",
   "execution_count": 33,
   "metadata": {
    "colab": {
     "base_uri": "https://localhost:8080/"
    },
    "id": "ZYi1F0Qu81sB",
    "outputId": "af0dd8e0-2735-4b83-fb82-d6cd1b5086a7"
   },
   "outputs": [
    {
     "name": "stdout",
     "output_type": "stream",
     "text": [
      "True\n"
     ]
    }
   ],
   "source": [
    "#Q.25 Write a code to check if the key \"city\" exists in the dictionary {'name': 'Alice', 'city': 'Paris'}.\n",
    "\n",
    "my_dict = {'name': 'Alice', 'city': 'Paris'}\n",
    "print(\"city\" in my_dict)  # Output: True"
   ]
  },
  {
   "cell_type": "markdown",
   "metadata": {
    "id": "MdpK6S52-_1b"
   },
   "source": [
    "**Q.26 Write a code to create a list, a tuple, and a dictionary, and print them all.**\n",
    "\n"
   ]
  },
  {
   "cell_type": "code",
   "execution_count": 27,
   "metadata": {
    "colab": {
     "base_uri": "https://localhost:8080/"
    },
    "id": "qojawTtw810h",
    "outputId": "37adc2b2-5c76-403f-9eab-cc5a931e38dc"
   },
   "outputs": [
    {
     "name": "stdout",
     "output_type": "stream",
     "text": [
      "[1, 2, 3] (4, 5, 6) {'a': 1, 'b': 2}\n"
     ]
    }
   ],
   "source": [
    "#Q.26 Write a code to create a list, a tuple, and a dictionary, and print them all.\n",
    "my_list = [1, 2, 3]\n",
    "my_tuple = (4, 5, 6)\n",
    "my_dict = {'a': 1, 'b': 2}\n",
    "print(my_list, my_tuple, my_dict)"
   ]
  },
  {
   "cell_type": "markdown",
   "metadata": {
    "id": "n6VxYhwQ_BHb"
   },
   "source": [
    "**Q.27 Write a code to create a list of 5 random numbers between 1 and 100, sort it in ascending order, and print the\n",
    "result.(replaced)**\n",
    "\n"
   ]
  },
  {
   "cell_type": "code",
   "execution_count": 28,
   "metadata": {
    "colab": {
     "base_uri": "https://localhost:8080/"
    },
    "id": "zEJCAA0d819F",
    "outputId": "d9023506-4194-4915-cac2-661602330f0e"
   },
   "outputs": [
    {
     "name": "stdout",
     "output_type": "stream",
     "text": [
      "[38, 67, 67, 81, 84]\n"
     ]
    }
   ],
   "source": [
    "#Q.27 Write a code to create a list of 5 random numbers between 1 and 100, sort it in ascending order, and print the result.(replaced)\n",
    "import random\n",
    "my_list = [random.randint(1, 100) for _ in range(5)]\n",
    "my_list.sort()\n",
    "print(my_list)"
   ]
  },
  {
   "cell_type": "markdown",
   "metadata": {
    "id": "6cbSHbjm_CS0"
   },
   "source": [
    "**Q.28 Write a code to create a list with strings and print the element at the third index.**\n",
    "\n"
   ]
  },
  {
   "cell_type": "code",
   "execution_count": 29,
   "metadata": {
    "colab": {
     "base_uri": "https://localhost:8080/"
    },
    "id": "X-z2t14882Fq",
    "outputId": "470e0b45-89e2-4744-c9c0-2c57343a03a6"
   },
   "outputs": [
    {
     "name": "stdout",
     "output_type": "stream",
     "text": [
      "date\n"
     ]
    }
   ],
   "source": [
    "#Q.28 Write a code to create a list with strings and print the element at the third index.\n",
    "my_list = [\"apple\", \"banana\", \"cherry\", \"date\"]\n",
    "print(my_list[3])  # Output: 'date'"
   ]
  },
  {
   "cell_type": "markdown",
   "metadata": {
    "id": "9Xftqq81_Dhq"
   },
   "source": [
    "**Q.29 Write a code to combine two dictionaries into one and print the result.**\n",
    "\n"
   ]
  },
  {
   "cell_type": "code",
   "execution_count": 30,
   "metadata": {
    "colab": {
     "base_uri": "https://localhost:8080/"
    },
    "id": "AGZJ5vmQ82N9",
    "outputId": "83c82d3a-2fdb-4d5f-c60e-5ee17492d855"
   },
   "outputs": [
    {
     "name": "stdout",
     "output_type": "stream",
     "text": [
      "{'a': 1, 'b': 2, 'c': 3, 'd': 4}\n"
     ]
    }
   ],
   "source": [
    "#Q.29 Write a code to combine two dictionaries into one and print the result.\n",
    "\n",
    "dict1 = {'a': 1, 'b': 2}\n",
    "dict2 = {'c': 3, 'd': 4}\n",
    "combined_dict = {**dict1, **dict2}\n",
    "print(combined_dict)"
   ]
  },
  {
   "cell_type": "markdown",
   "metadata": {
    "id": "CrKMsV76_EhE"
   },
   "source": [
    "**Q.30 Write a code to convert a list of strings into a set**"
   ]
  },
  {
   "cell_type": "code",
   "execution_count": 31,
   "metadata": {
    "colab": {
     "base_uri": "https://localhost:8080/"
    },
    "id": "OodrDmok82YP",
    "outputId": "0e8d56fe-111b-4565-e216-92a593d1985b"
   },
   "outputs": [
    {
     "name": "stdout",
     "output_type": "stream",
     "text": [
      "{'apple', 'cherry', 'banana'}\n"
     ]
    }
   ],
   "source": [
    "#Q.30 Write a code to convert a list of strings into a set\n",
    "my_list = [\"apple\", \"banana\", \"cherry\", \"apple\"]\n",
    "my_set = set(my_list)\n",
    "print(my_set)  # Output: {'banana', 'cherry', 'apple'}"
   ]
  }
 ],
 "metadata": {
  "colab": {
   "collapsed_sections": [
    "i2Rz_ByC9ayg",
    "is6vhpNl9ceX",
    "mfY30YSZ9rfa"
   ],
   "provenance": []
  },
  "kernelspec": {
   "display_name": "Python 3 (ipykernel)",
   "language": "python",
   "name": "python3"
  },
  "language_info": {
   "codemirror_mode": {
    "name": "ipython",
    "version": 3
   },
   "file_extension": ".py",
   "mimetype": "text/x-python",
   "name": "python",
   "nbconvert_exporter": "python",
   "pygments_lexer": "ipython3",
   "version": "3.12.7"
  }
 },
 "nbformat": 4,
 "nbformat_minor": 4
}
